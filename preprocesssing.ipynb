{
 "cells": [
  {
   "cell_type": "code",
   "execution_count": 1,
   "id": "95de4b9d",
   "metadata": {
    "ExecuteTime": {
     "end_time": "2022-04-12T10:50:55.106146Z",
     "start_time": "2022-04-12T10:50:53.912356Z"
    }
   },
   "outputs": [],
   "source": [
    "import pandas as pd"
   ]
  },
  {
   "cell_type": "markdown",
   "id": "09d65f69",
   "metadata": {
    "ExecuteTime": {
     "end_time": "2022-04-12T10:51:41.444371Z",
     "start_time": "2022-04-12T10:51:41.438360Z"
    }
   },
   "source": [
    "## Read data"
   ]
  },
  {
   "cell_type": "code",
   "execution_count": 27,
   "id": "2d76155f",
   "metadata": {
    "ExecuteTime": {
     "end_time": "2022-04-12T11:03:18.689635Z",
     "start_time": "2022-04-12T11:03:18.646414Z"
    }
   },
   "outputs": [],
   "source": [
    "df = pd.read_csv(\"neural-turing-machines\\candle.csv\")\n",
    "df = df[df[\"asset_id\"] == \"USDC-GBP\"]\n",
    "df.drop([\"id\", \"asset_id\"], axis=1, inplace=True)\n",
    "df = df.sort_values(\"time\")\n",
    "df.set_index(\"time\", inplace=True)"
   ]
  },
  {
   "cell_type": "code",
   "execution_count": 28,
   "id": "a30f3776",
   "metadata": {
    "ExecuteTime": {
     "end_time": "2022-04-12T11:03:20.051260Z",
     "start_time": "2022-04-12T11:03:20.039258Z"
    }
   },
   "outputs": [
    {
     "data": {
      "text/html": [
       "<div>\n",
       "<style scoped>\n",
       "    .dataframe tbody tr th:only-of-type {\n",
       "        vertical-align: middle;\n",
       "    }\n",
       "\n",
       "    .dataframe tbody tr th {\n",
       "        vertical-align: top;\n",
       "    }\n",
       "\n",
       "    .dataframe thead th {\n",
       "        text-align: right;\n",
       "    }\n",
       "</style>\n",
       "<table border=\"1\" class=\"dataframe\">\n",
       "  <thead>\n",
       "    <tr style=\"text-align: right;\">\n",
       "      <th></th>\n",
       "      <th>low</th>\n",
       "      <th>high</th>\n",
       "      <th>open_value</th>\n",
       "      <th>close_value</th>\n",
       "      <th>volume</th>\n",
       "    </tr>\n",
       "    <tr>\n",
       "      <th>time</th>\n",
       "      <th></th>\n",
       "      <th></th>\n",
       "      <th></th>\n",
       "      <th></th>\n",
       "      <th></th>\n",
       "    </tr>\n",
       "  </thead>\n",
       "  <tbody>\n",
       "    <tr>\n",
       "      <th>2022-02-20 15:55:00+00</th>\n",
       "      <td>0.734</td>\n",
       "      <td>0.736</td>\n",
       "      <td>0.736</td>\n",
       "      <td>0.734</td>\n",
       "      <td>25037.62</td>\n",
       "    </tr>\n",
       "    <tr>\n",
       "      <th>2022-02-20 16:15:00+00</th>\n",
       "      <td>0.735</td>\n",
       "      <td>0.735</td>\n",
       "      <td>0.735</td>\n",
       "      <td>0.735</td>\n",
       "      <td>1052.25</td>\n",
       "    </tr>\n",
       "    <tr>\n",
       "      <th>2022-02-20 16:24:00+00</th>\n",
       "      <td>0.736</td>\n",
       "      <td>0.736</td>\n",
       "      <td>0.736</td>\n",
       "      <td>0.736</td>\n",
       "      <td>42.49</td>\n",
       "    </tr>\n",
       "    <tr>\n",
       "      <th>2022-02-20 16:35:00+00</th>\n",
       "      <td>0.736</td>\n",
       "      <td>0.736</td>\n",
       "      <td>0.736</td>\n",
       "      <td>0.736</td>\n",
       "      <td>5960.17</td>\n",
       "    </tr>\n",
       "    <tr>\n",
       "      <th>2022-02-20 16:36:00+00</th>\n",
       "      <td>0.736</td>\n",
       "      <td>0.737</td>\n",
       "      <td>0.736</td>\n",
       "      <td>0.737</td>\n",
       "      <td>7436.68</td>\n",
       "    </tr>\n",
       "  </tbody>\n",
       "</table>\n",
       "</div>"
      ],
      "text/plain": [
       "                          low   high  open_value  close_value    volume\n",
       "time                                                                   \n",
       "2022-02-20 15:55:00+00  0.734  0.736       0.736        0.734  25037.62\n",
       "2022-02-20 16:15:00+00  0.735  0.735       0.735        0.735   1052.25\n",
       "2022-02-20 16:24:00+00  0.736  0.736       0.736        0.736     42.49\n",
       "2022-02-20 16:35:00+00  0.736  0.736       0.736        0.736   5960.17\n",
       "2022-02-20 16:36:00+00  0.736  0.737       0.736        0.737   7436.68"
      ]
     },
     "execution_count": 28,
     "metadata": {},
     "output_type": "execute_result"
    }
   ],
   "source": [
    "df.head()"
   ]
  },
  {
   "cell_type": "markdown",
   "id": "d81d31b4",
   "metadata": {
    "ExecuteTime": {
     "end_time": "2022-04-12T10:51:19.928370Z",
     "start_time": "2022-04-12T10:51:19.894348Z"
    }
   },
   "source": [
    "## Preprocess data"
   ]
  },
  {
   "cell_type": "markdown",
   "id": "10150b77",
   "metadata": {},
   "source": [
    "### Stationary"
   ]
  },
  {
   "cell_type": "code",
   "execution_count": 29,
   "id": "7ac9d0d1",
   "metadata": {
    "ExecuteTime": {
     "end_time": "2022-04-12T11:03:25.122104Z",
     "start_time": "2022-04-12T11:03:25.110126Z"
    }
   },
   "outputs": [],
   "source": [
    "# Stationarity = Good, because past data is more similar to future data, making forecasts easier.\n",
    "\n",
    "df['open_value'] = df['open_value'].pct_change()\n",
    "df['high'] = df['high'].pct_change()\n",
    "df['low'] = df['low'].pct_change()\n",
    "df['close_value'] = df['close_value'].pct_change()\n",
    "\n",
    "df['volume'] = df['volume'].pct_change()"
   ]
  },
  {
   "cell_type": "code",
   "execution_count": 30,
   "id": "858b249c",
   "metadata": {
    "ExecuteTime": {
     "end_time": "2022-04-12T11:03:25.661970Z",
     "start_time": "2022-04-12T11:03:25.646968Z"
    }
   },
   "outputs": [
    {
     "data": {
      "text/html": [
       "<div>\n",
       "<style scoped>\n",
       "    .dataframe tbody tr th:only-of-type {\n",
       "        vertical-align: middle;\n",
       "    }\n",
       "\n",
       "    .dataframe tbody tr th {\n",
       "        vertical-align: top;\n",
       "    }\n",
       "\n",
       "    .dataframe thead th {\n",
       "        text-align: right;\n",
       "    }\n",
       "</style>\n",
       "<table border=\"1\" class=\"dataframe\">\n",
       "  <thead>\n",
       "    <tr style=\"text-align: right;\">\n",
       "      <th></th>\n",
       "      <th>low</th>\n",
       "      <th>high</th>\n",
       "      <th>open_value</th>\n",
       "      <th>close_value</th>\n",
       "      <th>volume</th>\n",
       "    </tr>\n",
       "    <tr>\n",
       "      <th>time</th>\n",
       "      <th></th>\n",
       "      <th></th>\n",
       "      <th></th>\n",
       "      <th></th>\n",
       "      <th></th>\n",
       "    </tr>\n",
       "  </thead>\n",
       "  <tbody>\n",
       "    <tr>\n",
       "      <th>2022-02-20 15:55:00+00</th>\n",
       "      <td>NaN</td>\n",
       "      <td>NaN</td>\n",
       "      <td>NaN</td>\n",
       "      <td>NaN</td>\n",
       "      <td>NaN</td>\n",
       "    </tr>\n",
       "    <tr>\n",
       "      <th>2022-02-20 16:15:00+00</th>\n",
       "      <td>0.001362</td>\n",
       "      <td>-0.001359</td>\n",
       "      <td>-0.001359</td>\n",
       "      <td>0.001362</td>\n",
       "      <td>-0.957973</td>\n",
       "    </tr>\n",
       "    <tr>\n",
       "      <th>2022-02-20 16:24:00+00</th>\n",
       "      <td>0.001361</td>\n",
       "      <td>0.001361</td>\n",
       "      <td>0.001361</td>\n",
       "      <td>0.001361</td>\n",
       "      <td>-0.959620</td>\n",
       "    </tr>\n",
       "    <tr>\n",
       "      <th>2022-02-20 16:35:00+00</th>\n",
       "      <td>0.000000</td>\n",
       "      <td>0.000000</td>\n",
       "      <td>0.000000</td>\n",
       "      <td>0.000000</td>\n",
       "      <td>139.272299</td>\n",
       "    </tr>\n",
       "    <tr>\n",
       "      <th>2022-02-20 16:36:00+00</th>\n",
       "      <td>0.000000</td>\n",
       "      <td>0.001359</td>\n",
       "      <td>0.000000</td>\n",
       "      <td>0.001359</td>\n",
       "      <td>0.247730</td>\n",
       "    </tr>\n",
       "  </tbody>\n",
       "</table>\n",
       "</div>"
      ],
      "text/plain": [
       "                             low      high  open_value  close_value  \\\n",
       "time                                                                  \n",
       "2022-02-20 15:55:00+00       NaN       NaN         NaN          NaN   \n",
       "2022-02-20 16:15:00+00  0.001362 -0.001359   -0.001359     0.001362   \n",
       "2022-02-20 16:24:00+00  0.001361  0.001361    0.001361     0.001361   \n",
       "2022-02-20 16:35:00+00  0.000000  0.000000    0.000000     0.000000   \n",
       "2022-02-20 16:36:00+00  0.000000  0.001359    0.000000     0.001359   \n",
       "\n",
       "                            volume  \n",
       "time                                \n",
       "2022-02-20 15:55:00+00         NaN  \n",
       "2022-02-20 16:15:00+00   -0.957973  \n",
       "2022-02-20 16:24:00+00   -0.959620  \n",
       "2022-02-20 16:35:00+00  139.272299  \n",
       "2022-02-20 16:36:00+00    0.247730  "
      ]
     },
     "execution_count": 30,
     "metadata": {},
     "output_type": "execute_result"
    }
   ],
   "source": [
    "df.head()"
   ]
  },
  {
   "cell_type": "markdown",
   "id": "9fd1f5ac",
   "metadata": {},
   "source": [
    "### Normalize"
   ]
  },
  {
   "cell_type": "code",
   "execution_count": 31,
   "id": "7aa49723",
   "metadata": {
    "ExecuteTime": {
     "end_time": "2022-04-12T11:03:26.599218Z",
     "start_time": "2022-04-12T11:03:26.574239Z"
    }
   },
   "outputs": [],
   "source": [
    "# Normalize price columns\n",
    "min_return = min(df[['open_value', 'high', 'low', 'close_value']].min(axis=0))\n",
    "max_return = max(df[['open_value', 'high', 'low', 'close_value']].max(axis=0))\n",
    "\n",
    "# Min-max normalize price columns (0-1 range)\n",
    "df['open_value'] = (df['open_value'] - min_return) / (max_return - min_return)\n",
    "df['high'] = (df['high'] - min_return) / (max_return - min_return)\n",
    "df['low'] = (df['low'] - min_return) / (max_return - min_return)\n",
    "df['close_value'] = (df['close_value'] - min_return) / (max_return - min_return)\n",
    "\n",
    "\n",
    "# Normalize volume column\n",
    "min_volume = df['volume'].min(axis=0)\n",
    "max_volume = df['volume'].max(axis=0)\n",
    "\n",
    "# Min-max normalize volume columns (0-1 range)\n",
    "df['volume'] = (df['volume'] - min_volume) / (max_volume - min_volume)"
   ]
  },
  {
   "cell_type": "code",
   "execution_count": 33,
   "id": "20eb134c",
   "metadata": {
    "ExecuteTime": {
     "end_time": "2022-04-12T11:03:33.228057Z",
     "start_time": "2022-04-12T11:03:33.062768Z"
    }
   },
   "outputs": [
    {
     "data": {
      "text/plain": [
       "<AxesSubplot:xlabel='time'>"
      ]
     },
     "execution_count": 33,
     "metadata": {},
     "output_type": "execute_result"
    },
    {
     "data": {
      "image/png": "[encoded data removed]",
      "text/plain": [
       "<Figure size 432x288 with 1 Axes>"
      ]
     },
     "metadata": {
      "needs_background": "light"
     },
     "output_type": "display_data"
    }
   ],
   "source": [
    "df[[\"close_value\", \"volume\"]].plot()"
   ]
  },
  {
   "cell_type": "code",
   "execution_count": 34,
   "id": "bccf92ab",
   "metadata": {
    "ExecuteTime": {
     "end_time": "2022-04-12T11:04:30.121126Z",
     "start_time": "2022-04-12T11:04:30.110138Z"
    }
   },
   "outputs": [],
   "source": [
    "times = sorted(df.index.values)\n",
    "last_10pct = sorted(df.index.values)[-int(0.1*len(times))] # Last 10% of series\n",
    "last_20pct = sorted(df.index.values)[-int(0.2*len(times))] # Last 20% of series\n",
    "\n",
    "df_train = df[(df.index < last_20pct)]  # Training data are 80% of total data\n",
    "df_val = df[(df.index >= last_20pct) & (df.index < last_10pct)]\n",
    "df_test = df[(df.index >= last_10pct)]"
   ]
  },
  {
   "cell_type": "code",
   "execution_count": 39,
   "id": "c9846afb",
   "metadata": {
    "ExecuteTime": {
     "end_time": "2022-04-12T11:05:13.517298Z",
     "start_time": "2022-04-12T11:05:13.502269Z"
    }
   },
   "outputs": [
    {
     "data": {
      "text/html": [
       "<div>\n",
       "<style scoped>\n",
       "    .dataframe tbody tr th:only-of-type {\n",
       "        vertical-align: middle;\n",
       "    }\n",
       "\n",
       "    .dataframe tbody tr th {\n",
       "        vertical-align: top;\n",
       "    }\n",
       "\n",
       "    .dataframe thead th {\n",
       "        text-align: right;\n",
       "    }\n",
       "</style>\n",
       "<table border=\"1\" class=\"dataframe\">\n",
       "  <thead>\n",
       "    <tr style=\"text-align: right;\">\n",
       "      <th></th>\n",
       "      <th>low</th>\n",
       "      <th>high</th>\n",
       "      <th>open_value</th>\n",
       "      <th>close_value</th>\n",
       "      <th>volume</th>\n",
       "    </tr>\n",
       "    <tr>\n",
       "      <th>time</th>\n",
       "      <th></th>\n",
       "      <th></th>\n",
       "      <th></th>\n",
       "      <th></th>\n",
       "      <th></th>\n",
       "    </tr>\n",
       "  </thead>\n",
       "  <tbody>\n",
       "    <tr>\n",
       "      <th>2022-03-27 23:12:00+00</th>\n",
       "      <td>0.528760</td>\n",
       "      <td>0.528760</td>\n",
       "      <td>0.528760</td>\n",
       "      <td>0.528760</td>\n",
       "      <td>2.003396e-06</td>\n",
       "    </tr>\n",
       "    <tr>\n",
       "      <th>2022-03-27 23:28:00+00</th>\n",
       "      <td>0.588053</td>\n",
       "      <td>0.528760</td>\n",
       "      <td>0.588053</td>\n",
       "      <td>0.528760</td>\n",
       "      <td>6.227805e-05</td>\n",
       "    </tr>\n",
       "    <tr>\n",
       "      <th>2022-03-27 23:43:00+00</th>\n",
       "      <td>0.528760</td>\n",
       "      <td>0.528760</td>\n",
       "      <td>0.528760</td>\n",
       "      <td>0.528760</td>\n",
       "      <td>7.775483e-05</td>\n",
       "    </tr>\n",
       "    <tr>\n",
       "      <th>2022-03-28 00:17:00+00</th>\n",
       "      <td>0.469544</td>\n",
       "      <td>0.528760</td>\n",
       "      <td>0.469544</td>\n",
       "      <td>0.528760</td>\n",
       "      <td>1.875867e-06</td>\n",
       "    </tr>\n",
       "    <tr>\n",
       "      <th>2022-03-28 00:51:00+00</th>\n",
       "      <td>0.588053</td>\n",
       "      <td>0.528760</td>\n",
       "      <td>0.588053</td>\n",
       "      <td>0.528760</td>\n",
       "      <td>4.056504e-07</td>\n",
       "    </tr>\n",
       "    <tr>\n",
       "      <th>...</th>\n",
       "      <td>...</td>\n",
       "      <td>...</td>\n",
       "      <td>...</td>\n",
       "      <td>...</td>\n",
       "      <td>...</td>\n",
       "    </tr>\n",
       "    <tr>\n",
       "      <th>2022-04-01 22:28:00+00</th>\n",
       "      <td>0.528760</td>\n",
       "      <td>0.469854</td>\n",
       "      <td>0.469854</td>\n",
       "      <td>0.528760</td>\n",
       "      <td>3.371379e-06</td>\n",
       "    </tr>\n",
       "    <tr>\n",
       "      <th>2022-04-01 22:29:00+00</th>\n",
       "      <td>0.587742</td>\n",
       "      <td>0.587742</td>\n",
       "      <td>0.587742</td>\n",
       "      <td>0.587742</td>\n",
       "      <td>7.549107e-06</td>\n",
       "    </tr>\n",
       "    <tr>\n",
       "      <th>2022-04-01 22:47:00+00</th>\n",
       "      <td>0.469854</td>\n",
       "      <td>0.528760</td>\n",
       "      <td>0.528760</td>\n",
       "      <td>0.469854</td>\n",
       "      <td>1.184964e-04</td>\n",
       "    </tr>\n",
       "    <tr>\n",
       "      <th>2022-04-01 23:03:00+00</th>\n",
       "      <td>0.587742</td>\n",
       "      <td>0.528760</td>\n",
       "      <td>0.528760</td>\n",
       "      <td>0.587742</td>\n",
       "      <td>1.098551e-06</td>\n",
       "    </tr>\n",
       "    <tr>\n",
       "      <th>2022-04-01 23:38:00+00</th>\n",
       "      <td>0.469854</td>\n",
       "      <td>0.469854</td>\n",
       "      <td>0.469854</td>\n",
       "      <td>0.469854</td>\n",
       "      <td>1.636539e-05</td>\n",
       "    </tr>\n",
       "  </tbody>\n",
       "</table>\n",
       "<p>484 rows × 5 columns</p>\n",
       "</div>"
      ],
      "text/plain": [
       "                             low      high  open_value  close_value  \\\n",
       "time                                                                  \n",
       "2022-03-27 23:12:00+00  0.528760  0.528760    0.528760     0.528760   \n",
       "2022-03-27 23:28:00+00  0.588053  0.528760    0.588053     0.528760   \n",
       "2022-03-27 23:43:00+00  0.528760  0.528760    0.528760     0.528760   \n",
       "2022-03-28 00:17:00+00  0.469544  0.528760    0.469544     0.528760   \n",
       "2022-03-28 00:51:00+00  0.588053  0.528760    0.588053     0.528760   \n",
       "...                          ...       ...         ...          ...   \n",
       "2022-04-01 22:28:00+00  0.528760  0.469854    0.469854     0.528760   \n",
       "2022-04-01 22:29:00+00  0.587742  0.587742    0.587742     0.587742   \n",
       "2022-04-01 22:47:00+00  0.469854  0.528760    0.528760     0.469854   \n",
       "2022-04-01 23:03:00+00  0.587742  0.528760    0.528760     0.587742   \n",
       "2022-04-01 23:38:00+00  0.469854  0.469854    0.469854     0.469854   \n",
       "\n",
       "                              volume  \n",
       "time                                  \n",
       "2022-03-27 23:12:00+00  2.003396e-06  \n",
       "2022-03-27 23:28:00+00  6.227805e-05  \n",
       "2022-03-27 23:43:00+00  7.775483e-05  \n",
       "2022-03-28 00:17:00+00  1.875867e-06  \n",
       "2022-03-28 00:51:00+00  4.056504e-07  \n",
       "...                              ...  \n",
       "2022-04-01 22:28:00+00  3.371379e-06  \n",
       "2022-04-01 22:29:00+00  7.549107e-06  \n",
       "2022-04-01 22:47:00+00  1.184964e-04  \n",
       "2022-04-01 23:03:00+00  1.098551e-06  \n",
       "2022-04-01 23:38:00+00  1.636539e-05  \n",
       "\n",
       "[484 rows x 5 columns]"
      ]
     },
     "execution_count": 39,
     "metadata": {},
     "output_type": "execute_result"
    }
   ],
   "source": [
    "df_test"
   ]
  },
  {
   "cell_type": "code",
   "execution_count": 40,
   "id": "fd025532",
   "metadata": {
    "ExecuteTime": {
     "end_time": "2022-04-14T16:07:19.535617Z",
     "start_time": "2022-04-14T16:07:18.630349Z"
    }
   },
   "outputs": [],
   "source": [
    "from time2vec import Time2Vec"
   ]
  },
  {
   "cell_type": "code",
   "execution_count": null,
   "id": "b1f97e50",
   "metadata": {},
   "outputs": [],
   "source": [
    "model = Time2Vec(in_features=5, out_features=30)"
   ]
  }
 ],
 "metadata": {
  "kernelspec": {
   "display_name": "Python 3 (ipykernel)",
   "language": "python",
   "name": "python3"
  },
  "language_info": {
   "codemirror_mode": {
    "name": "ipython",
    "version": 3
   },
   "file_extension": ".py",
   "mimetype": "text/x-python",
   "name": "python",
   "nbconvert_exporter": "python",
   "pygments_lexer": "ipython3",
   "version": "3.9.11"
  }
 },
 "nbformat": 4,
 "nbformat_minor": 5
}
